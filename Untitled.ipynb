{
 "cells": [
  {
   "cell_type": "code",
   "execution_count": 5,
   "id": "b2b99d06",
   "metadata": {},
   "outputs": [],
   "source": [
    "import requests\n",
    "import json\n",
    "import pandas as pd"
   ]
  },
  {
   "cell_type": "code",
   "execution_count": 42,
   "id": "f4c22c24",
   "metadata": {},
   "outputs": [],
   "source": [
    "# CKAN API endpoint for DataStore search\n",
    "ckan_url = 'https://data.gov.au/data/api/action/datastore_search?resource_id=55ad4b1c-5eeb-44ea-8b29-d410da431be3'\n",
    "\n",
    "# Parameters for the API request\n",
    "params = {\n",
    "    'resource_id': '55ad4b1c-5eeb-44ea-8b29-d410da431be3'  # Replace with your resource ID\n",
    "}"
   ]
  },
  {
   "cell_type": "code",
   "execution_count": 43,
   "id": "5c69b2fe",
   "metadata": {},
   "outputs": [],
   "source": [
    "response = requests.get(ckan_url)\n"
   ]
  },
  {
   "cell_type": "code",
   "execution_count": 44,
   "id": "81d7e637",
   "metadata": {},
   "outputs": [
    {
     "name": "stdout",
     "output_type": "stream",
     "text": [
      "Request was successful!\n"
     ]
    }
   ],
   "source": [
    "if response.status_code == 200:\n",
    "    print(\"Request was successful!\")\n",
    "else:\n",
    "    print(\"Failed to retrieve data:\", response.status_code)"
   ]
  },
  {
   "cell_type": "code",
   "execution_count": 6,
   "id": "9c8b3236",
   "metadata": {},
   "outputs": [],
   "source": [
    "data = response.json()\n",
    "records = data['result']['records']\n",
    "df = pd.DataFrame(records)\n"
   ]
  },
  {
   "cell_type": "code",
   "execution_count": 35,
   "id": "52338a42",
   "metadata": {},
   "outputs": [],
   "source": [
    "def get_data():\n",
    "    url = 'https://data.gov.au/data/api/action/datastore_search?resource_id=55ad4b1c-5eeb-44ea-8b29-d410da431be3&limit=10000&offset=3120000'\n",
    "\n",
    "    data = []\n",
    "    offset = 3120000\n",
    "    limit = 10000\n",
    "    total_count = requests.get(url).json()['result'].get('total')\n",
    "    print(total_count)\n",
    "    while offset < total_count :\n",
    "        response = requests.get(url)\n",
    "        response_data = response.json()\n",
    "        print(response.status_code)\n",
    "        data.extend(response_data['result']['records'])\n",
    "        records = len(response_data['result']['records'])\n",
    "        url = 'https://data.gov.au/data'+response_data['result'].get('_links', {}).get('next')\n",
    "        offset = offset + limit\n",
    "        print(url)\n",
    "    return data"
   ]
  },
  {
   "cell_type": "code",
   "execution_count": 36,
   "id": "1b10fdce",
   "metadata": {
    "scrolled": false
   },
   "outputs": [
    {
     "name": "stdout",
     "output_type": "stream",
     "text": [
      "3183122\n",
      "200\n",
      "https://data.gov.au/data/api/action/datastore_search?resource_id=55ad4b1c-5eeb-44ea-8b29-d410da431be3&limit=10000&offset=3130000\n",
      "200\n",
      "https://data.gov.au/data/api/action/datastore_search?resource_id=55ad4b1c-5eeb-44ea-8b29-d410da431be3&limit=10000&offset=3140000\n",
      "200\n",
      "https://data.gov.au/data/api/action/datastore_search?resource_id=55ad4b1c-5eeb-44ea-8b29-d410da431be3&limit=10000&offset=3150000\n",
      "200\n",
      "https://data.gov.au/data/api/action/datastore_search?resource_id=55ad4b1c-5eeb-44ea-8b29-d410da431be3&limit=10000&offset=3160000\n",
      "200\n",
      "https://data.gov.au/data/api/action/datastore_search?resource_id=55ad4b1c-5eeb-44ea-8b29-d410da431be3&limit=10000&offset=3170000\n",
      "200\n",
      "https://data.gov.au/data/api/action/datastore_search?resource_id=55ad4b1c-5eeb-44ea-8b29-d410da431be3&limit=10000&offset=3180000\n",
      "200\n",
      "https://data.gov.au/data/api/action/datastore_search?resource_id=55ad4b1c-5eeb-44ea-8b29-d410da431be3&limit=10000&offset=3190000\n"
     ]
    }
   ],
   "source": [
    "a = get_data()"
   ]
  },
  {
   "cell_type": "code",
   "execution_count": 18,
   "id": "588e05ff",
   "metadata": {
    "scrolled": true
   },
   "outputs": [
    {
     "data": {
      "text/plain": [
       "3183122"
      ]
     },
     "execution_count": 18,
     "metadata": {},
     "output_type": "execute_result"
    }
   ],
   "source": [
    "url = 'https://data.gov.au/data/api/action/datastore_search?resource_id=55ad4b1c-5eeb-44ea-8b29-d410da431be3&limit=1000000&offset=3120000'\n",
    "requests.get(url).json()['result'].get('total')"
   ]
  },
  {
   "cell_type": "code",
   "execution_count": 38,
   "id": "404d60a7",
   "metadata": {},
   "outputs": [],
   "source": [
    "df = pd.DataFrame(a)"
   ]
  },
  {
   "cell_type": "code",
   "execution_count": 37,
   "id": "1245adcb",
   "metadata": {
    "scrolled": false
   },
   "outputs": [
    {
     "data": {
      "text/plain": [
       "63122"
      ]
     },
     "execution_count": 37,
     "metadata": {},
     "output_type": "execute_result"
    }
   ],
   "source": [
    "len(a)"
   ]
  },
  {
   "cell_type": "code",
   "execution_count": 7,
   "id": "a6b48340",
   "metadata": {},
   "outputs": [
    {
     "data": {
      "text/plain": [
       "100"
      ]
     },
     "execution_count": 7,
     "metadata": {},
     "output_type": "execute_result"
    }
   ],
   "source": [
    "def fetch_data():\n",
    "    url = \"https://data.gov.au/data/api/1/util/snippet/api_info.html?resource_id=55ad4b1c-5eeb-44ea-8b29-d410da431be3\"\n",
    "    response = requests.get(url)\n",
    "    return response.json()"
   ]
  },
  {
   "cell_type": "code",
   "execution_count": 42,
   "id": "516ee704",
   "metadata": {},
   "outputs": [],
   "source": [
    "def filter_data(df, filter1=None, filter2=None, filter3=None):\n",
    "    if filter1:\n",
    "        df = df[df['BN_STATUS'].str.contains(filter1, case=False)]\n",
    "    if filter2:\n",
    "        df = df[df['BN_REG_DT'].str.contains(filter2, case=False)]\n",
    "    if filter3:\n",
    "        df = df[df['filter3_column'].str.contains(filter3, case=False)]\n",
    "    return df"
   ]
  },
  {
   "cell_type": "code",
   "execution_count": null,
   "id": "66de399a",
   "metadata": {},
   "outputs": [],
   "source": [
    "filter_data(df, )"
   ]
  },
  {
   "cell_type": "code",
   "execution_count": 44,
   "id": "994b6d8c",
   "metadata": {},
   "outputs": [
    {
     "data": {
      "text/plain": [
       "array([None, 'VIC'], dtype=object)"
      ]
     },
     "execution_count": 44,
     "metadata": {},
     "output_type": "execute_result"
    }
   ],
   "source": [
    "df['BN_STATE_OF_REG'].unique()"
   ]
  },
  {
   "cell_type": "code",
   "execution_count": null,
   "id": "8976e7a0",
   "metadata": {},
   "outputs": [],
   "source": [
    "def get_all_records(base_url, resource_id):\n",
    "    records = []\n",
    "    offset = 0\n",
    "\n",
    "    while True:\n",
    "        response = requests.get(f\"{base_url}/api/3/action/datastore_search\", params={\n",
    "            \"resource_id\": resource_id,\n",
    "            \"offset\": offset\n",
    "        })\n",
    "        data = response.json()\n",
    "        \n",
    "        if not data['success']:\n",
    "            break\n",
    "        \n",
    "        records.extend(data['result']['records'])\n",
    "        \n",
    "        if len(data['result']['records']) == 0:\n",
    "            break\n",
    "        \n",
    "        offset += len(data['result']['records'])\n",
    "\n",
    "    return records\n",
    "\n",
    "# Example usage\n",
    "base_url = \"https://demo.ckan.org\"  # Replace with the actual base URL of the CKAN instance\n",
    "resource_id = \"a9b8c9d4-5e6f-4b8a-9c8d-5e6f4b8a9c8d\"  # Replace with the actual resource ID\n",
    "\n",
    "all_records = get_all_records(base_url, resource_id)\n",
    "print(all_records)"
   ]
  }
 ],
 "metadata": {
  "kernelspec": {
   "display_name": "Python 3 (ipykernel)",
   "language": "python",
   "name": "python3"
  },
  "language_info": {
   "codemirror_mode": {
    "name": "ipython",
    "version": 3
   },
   "file_extension": ".py",
   "mimetype": "text/x-python",
   "name": "python",
   "nbconvert_exporter": "python",
   "pygments_lexer": "ipython3",
   "version": "3.9.12"
  }
 },
 "nbformat": 4,
 "nbformat_minor": 5
}
