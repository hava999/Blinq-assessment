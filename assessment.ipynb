{
 "cells": [
  {
   "cell_type": "code",
   "execution_count": 13,
   "id": "b2b99d06",
   "metadata": {},
   "outputs": [],
   "source": [
    "#import requests\n",
    "import json\n",
    "import pandas as pd\n",
    "from ckanapi import RemoteCKAN"
   ]
  },
  {
   "cell_type": "code",
   "execution_count": 81,
   "id": "dc8cbef4",
   "metadata": {},
   "outputs": [],
   "source": [
    "def get_data(BN_STATUS,BN_REG_DT,BN_STATE_OF_REG):\n",
    "\n",
    "  offset = 0\n",
    "  limit = 32000\n",
    "  data = []\n",
    "  total_count = 1\n",
    "  rc = RemoteCKAN('https://data.gov.au/data/')\n",
    "\n",
    "  while offset < total_count:\n",
    "      result = rc.action.datastore_search(\n",
    "          resource_id=\"55ad4b1c-5eeb-44ea-8b29-d410da431be3\",\n",
    "          limit = limit,\n",
    "          offset = offset,\n",
    "          filters={\n",
    "              \"BN_STATUS\": BN_STATUS,\n",
    "              \"BN_REG_DT\": BN_REG_DT,\n",
    "              \"BN_STATE_OF_REG\": BN_STATE_OF_REG\n",
    "            },\n",
    "      )\n",
    "\n",
    "      data.extend(result['records'])\n",
    "\n",
    "      if len(result['records']) == 0 :\n",
    "        break\n",
    "      \n",
    "      total_count = result['total']\n",
    "      offset = offset + limit\n",
    "      \n",
    "  return data"
   ]
  },
  {
   "cell_type": "code",
   "execution_count": null,
   "id": "9f077e32",
   "metadata": {},
   "outputs": [],
   "source": []
  },
  {
   "cell_type": "code",
   "execution_count": 68,
   "id": "49dbb715",
   "metadata": {},
   "outputs": [
    {
     "name": "stdout",
     "output_type": "stream",
     "text": [
      "32000\n",
      "32000\n",
      "64000\n",
      "64000\n",
      "96000\n",
      "96000\n",
      "128000\n",
      "128000\n",
      "160000\n",
      "160000\n",
      "192000\n",
      "177245\n"
     ]
    }
   ],
   "source": [
    "rc = RemoteCKAN('https://data.gov.au/data/')\n",
    "\n",
    "offset = 0\n",
    "limit = 32000\n",
    "data = []\n",
    "total_count = 1\n",
    "\n",
    "while offset < total_count:\n",
    "    result = rc.action.datastore_search(\n",
    "        resource_id=\"55ad4b1c-5eeb-44ea-8b29-d410da431be3\",\n",
    "        limit = limit,\n",
    "        offset = offset,\n",
    "        filters={\n",
    "            \"BN_STATE_OF_REG\":  \"VIC\"\n",
    "          },\n",
    "    )\n",
    "\n",
    "    total_count = result['total']\n",
    "    data.extend(result['records'])\n",
    "\n",
    "    if len(result['records']) == 0 :\n",
    "      break\n",
    "\n",
    "    offset = offset + limit\n",
    "\n",
    "    print(offset)\n",
    "    print(len(data))\n"
   ]
  },
  {
   "cell_type": "code",
   "execution_count": 64,
   "id": "3e98fbd9",
   "metadata": {},
   "outputs": [],
   "source": [
    "df = pd.DataFrame(data)"
   ]
  },
  {
   "cell_type": "code",
   "execution_count": null,
   "id": "239df637",
   "metadata": {},
   "outputs": [],
   "source": [
    "def get_data(url, parameters):\n",
    "\n",
    "    response = requests.get(url, parameters)\n",
    "\n",
    "    if response.status_code == 200:\n",
    "        print(\"Request successful!\")\n",
    "    else:\n",
    "        print(\"request failed\", response.status_code)\n",
    "\n",
    "    data = response.json()['result']['records']\n",
    "\n",
    "    return data"
   ]
  },
  {
   "cell_type": "code",
   "execution_count": null,
   "id": "10c518d1",
   "metadata": {},
   "outputs": [],
   "source": [
    "url = 'https://data.gov.au/data/api/action/datastore_search'\n",
    "parameters = {\n",
    "    \"resource_id\": '55ad4b1c-5eeb-44ea-8b29-d410da431be3',\n",
    "}\n",
    "\n",
    "data = get_data(url, parameters)"
   ]
  },
  {
   "cell_type": "code",
   "execution_count": null,
   "id": "101454d8",
   "metadata": {},
   "outputs": [],
   "source": []
  },
  {
   "cell_type": "code",
   "execution_count": null,
   "id": "c2ee7f92",
   "metadata": {},
   "outputs": [],
   "source": [
    "df2 = pd.DataFrame(data)\n",
    "df2.head()"
   ]
  },
  {
   "cell_type": "code",
   "execution_count": null,
   "id": "edfc05bc",
   "metadata": {},
   "outputs": [],
   "source": []
  }
 ],
 "metadata": {
  "interpreter": {
   "hash": "a7d2250bbb9e13a57844a1a07520419067dec83f4d9252776eb7942b284b8594"
  },
  "kernelspec": {
   "display_name": "Python 3.9.12 ('base')",
   "language": "python",
   "name": "python3"
  },
  "language_info": {
   "codemirror_mode": {
    "name": "ipython",
    "version": 3
   },
   "file_extension": ".py",
   "mimetype": "text/x-python",
   "name": "python",
   "nbconvert_exporter": "python",
   "pygments_lexer": "ipython3",
   "version": "3.9.12"
  }
 },
 "nbformat": 4,
 "nbformat_minor": 5
}
